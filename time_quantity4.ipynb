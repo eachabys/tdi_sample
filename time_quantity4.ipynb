{
 "cells": [
  {
   "cell_type": "code",
   "execution_count": 28,
   "id": "auburn-rendering",
   "metadata": {},
   "outputs": [],
   "source": [
    "import pandas as pd\n",
    "from collections import Counter\n",
    "import matplotlib.pylab as plt\n",
    "import numpy as np\n",
    "\n",
    "df= pd.read_csv('RAW_recipes.csv')\n",
    "timer=df.minutes\n",
    "ingred=df.n_ingredients\n",
    "#analyze whats the distribution of time to cook \n",
    "timer_count=Counter(timer)\n",
    "d=timer_count.items()\n",
    "minutes=np.array([x[0] for x in d])\n",
    "quantity=np.array([x[1] for x in d])\n",
    "max_time=120 #2hours\n",
    "for i in range(len(minutes)):\n",
    "    if minutes[i]>max_time: #for ease let's remove the recipes if they take more than max_time to cook \n",
    "        minutes[i]=0\n",
    "        quantity[i]=0\n",
    "    #round the time to cook to the nearest time factor of 10 minutes\n",
    "    if minutes[i]%10!=0:#if the time to cook is not a factor of 10 (e.g. 10, 20,.. minutes)\n",
    "        d=minutes[i]\n",
    "        minutes[i]=round(d/10)*10 # approximate to the nearest 10 minutes"
   ]
  },
  {
   "cell_type": "code",
   "execution_count": 29,
   "id": "tender-personal",
   "metadata": {},
   "outputs": [],
   "source": [
    "#Now 2 lists minutes1 and quantity1 prepresent how many recipes can be cooked in 10, 20,... minutes\n",
    "#next few lines just cleaning the data\n",
    "minutes1=[int(a) for a in minutes if int(a)!=0]\n",
    "quantity1=[int(b) for b in quantity if int(b)!=0]\n",
    "minutes2=[i*10 for i in range(int((max_time)/10)+1)]\n",
    "quantity2=[0]*len(minutes2)\n"
   ]
  },
  {
   "cell_type": "code",
   "execution_count": 30,
   "id": "varied-extent",
   "metadata": {},
   "outputs": [],
   "source": [
    "for i in range(len(minutes2)):\n",
    "    a=minutes2[i]\n",
    "    for k in range(len(minutes1)):\n",
    "        if minutes1[k]==a:\n",
    "            quantity2[i]=quantity2[i]+quantity1[k]\n",
    "            "
   ]
  },
  {
   "cell_type": "code",
   "execution_count": 31,
   "id": "corporate-speaking",
   "metadata": {},
   "outputs": [
    {
     "name": "stdout",
     "output_type": "stream",
     "text": [
      "[10, 20, 30, 40, 50, 60, 70, 80, 90, 100, 110, 120] [33631, 18020, 38869, 37781, 2679, 11512, 2620, 19341, 13220, 8545, 6679, 12883]\n"
     ]
    }
   ],
   "source": [
    "minutes2=minutes2[1:]\n",
    "quantity2=quantity2[1:]\n",
    "print(minutes2,quantity2)"
   ]
  },
  {
   "cell_type": "code",
   "execution_count": 32,
   "id": "thirty-snapshot",
   "metadata": {},
   "outputs": [
    {
     "data": {
      "image/png": "[encoded data removed]",
      "text/plain": [
       "<Figure size 432x288 with 1 Axes>"
      ]
     },
     "metadata": {
      "needs_background": "light"
     },
     "output_type": "display_data"
    }
   ],
   "source": [
    "fig = plt.figure()\n",
    "ax = fig.add_subplot(111)\n",
    "#show distribution of how many recipes depending on how much time to cook\n",
    "ax.plot(minutes2,quantity2,'o')\n",
    "plt.show()"
   ]
  },
  {
   "cell_type": "code",
   "execution_count": null,
   "id": "narrow-tracker",
   "metadata": {},
   "outputs": [],
   "source": []
  },
  {
   "cell_type": "code",
   "execution_count": 33,
   "id": "industrial-heaven",
   "metadata": {
    "scrolled": true
   },
   "outputs": [
    {
     "data": {
      "text/plain": [
       "[<matplotlib.lines.Line2D at 0x122c181c0>]"
      ]
     },
     "execution_count": 33,
     "metadata": {},
     "output_type": "execute_result"
    },
    {
     "data": {
      "image/png": "[encoded data removed]",
      "text/plain": [
       "<Figure size 432x288 with 1 Axes>"
      ]
     },
     "metadata": {
      "needs_background": "light"
     },
     "output_type": "display_data"
    }
   ],
   "source": [
    "poly_min = np.poly1d(np.polyfit(minutes2, quantity2, 1))\n",
    "plt.plot(minutes2, quantity2, 'bo:')\n",
    "poly_x = np.linspace(0, 5, 120)\n",
    "plt.plot(poly_x, poly_min(poly_x), 'b')\n",
    "#plot how many recipes for 5, 10, 15, .. minutes of cooking time"
   ]
  },
  {
   "cell_type": "code",
   "execution_count": 123,
   "id": "tired-petersburg",
   "metadata": {},
   "outputs": [
    {
     "name": "stdout",
     "output_type": "stream",
     "text": [
      "['appetizers', 'barbecue', 'beverages', 'broil', 'condiments-etc', 'crock-pot-slow-cooker', 'dairy-free', 'deep-fry', 'desserts', 'diabetic', 'dietary', 'dips', 'egg-free', 'eggs', 'eggs-dairy', 'fish', 'gluten-free', 'grilling', 'high-calcium', 'high-protein', 'lactose', 'low-calorie', 'low-carb', 'low-cholesterol', 'low-fat', 'low-protein', 'low-sodium', 'main-dish', 'meat', 'nut-free', 'pressure-cooker', 'salad-dressings', 'salads', 'sauces', 'savory', 'seafood', 'side-dishes', 'smoothies', 'spicy', 'spreads', 'stir-fry', 'sweet', 'vegan', 'vegetables', 'vegetarian', 'very-low-carbs']\n"
     ]
    }
   ],
   "source": [
    "df= pd.read_csv('RAW_recipes.csv')\n",
    "tags=df.tags\n",
    "tag_list = df[\"tags\"].tolist()\n",
    "for i in range(len(tag_list)):\n",
    "    tag_list[i]=tag_list[i].replace(\"[\",'')\n",
    "    tag_list[i]=tag_list[i].replace(\"]\",'')\n",
    "    tag_list[i]=tag_list[i].split(', ')\n",
    "\n",
    "L=str(tag_list).replace('[', '').replace(']', '') \n",
    "L1=L.replace('\"', '')\n",
    "L3=L1.replace(\"'\",'')\n",
    "L2=L3.split(', ')\n",
    "tag_lst=Counter(L2)\n",
    "#evaluate the most common tags\n",
    "#print(tag_lst.most_common(500))\n",
    "tag=[('dietary', 165091), ('main-dish', 71786),  ('meat', 56042), ('vegetables', 53814), ('low-sodium', 43349), ('desserts', 43203), ('low-carb', 42189), ('low-cholesterol', 36743), ('low-calorie', 36429), ('vegetarian', 35651), ('low-protein', 32522), ('eggs-dairy', 30142), ('side-dishes', 26902), ('low-fat', 22170), ('appetizers', 20379), ('seafood', 14791), ('salads', 14687),  ('condiments-etc', 11874), ('beverages', 11124),  ('savory', 10544), ('sweet', 10543), ('vegan', 10012), ('very-low-carbs', 9201), ('eggs', 8577), ('spicy', 8225), ('fish', 7462), ('high-protein', 7209),  ('crock-pot-slow-cooker', 6608), ('diabetic', 6458), ('gluten-free', 5743), ('sauces', 5556), ('egg-free', 5064), ('high-calcium', 4907), ('grilling', 4782), ('dips', 4727), ('barbecue', 4116), ('lactose', 4105), ('salad-dressings', 2389), ('spreads', 2289), ('smoothies', 1878), ('broil', 1868), ('stir-fry', 1690),  ('deep-fry', 1114), ('pressure-cooker', 314),  ('nut-free', 218),('dairy-free', 195)]\n",
    "key_tag=[x[0] for x in tag]\n",
    "print(sorted(key_tag))"
   ]
  },
  {
   "cell_type": "markdown",
   "id": "presidential-formula",
   "metadata": {},
   "source": []
  },
  {
   "cell_type": "code",
   "execution_count": null,
   "id": "computational-morris",
   "metadata": {},
   "outputs": [],
   "source": []
  },
  {
   "cell_type": "code",
   "execution_count": null,
   "id": "living-minority",
   "metadata": {},
   "outputs": [],
   "source": []
  }
 ],
 "metadata": {
  "kernelspec": {
   "display_name": "Python 3",
   "language": "python",
   "name": "python3"
  },
  "language_info": {
   "codemirror_mode": {
    "name": "ipython",
    "version": 3
   },
   "file_extension": ".py",
   "mimetype": "text/x-python",
   "name": "python",
   "nbconvert_exporter": "python",
   "pygments_lexer": "ipython3",
   "version": "3.9.7"
  }
 },
 "nbformat": 4,
 "nbformat_minor": 5
}
