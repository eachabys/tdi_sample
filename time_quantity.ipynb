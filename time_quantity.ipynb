{
 "cells": [
  {
   "cell_type": "code",
   "execution_count": null,
   "id": "auburn-rendering",
   "metadata": {},
   "outputs": [],
   "source": [
    "import pandas as pd\n",
    "from collections import Counter\n",
    "import matplotlib.pylab as plt\n",
    "import numpy as np\n",
    "\n",
    "df= pd.read_csv('RAW_recipes.csv')\n",
    "timer=df.minutes\n",
    "ingred=df.n_ingredients\n",
    "#analyze whats the distribution of time to cook \n",
    "timer_count=Counter(timer)\n",
    "d=timer_count.items()\n",
    "minutes=np.array([x[0] for x in d])\n",
    "quantity=np.array([x[1] for x in d])\n",
    "for i in range(len(minutes)):\n",
    "    if minutes[i]>180: #remove some recipes if they take more than 3h for simplicity\n",
    "        minutes[i]=0\n",
    "        quantity[i]=0\n",
    "    if minutes[i]%5!=0:#take only in 5 minutes increments since majority recipes are approximated to the nearest 5\n",
    "        minutes[i]=0\n",
    "        quantity[i]=0\n",
    "minutes1=[a for a in minutes if a!=0]\n",
    "quantity1=[b for b in quantity if b!=0]\n",
    "fig = plt.figure()\n",
    "ax = fig.add_subplot(111)\n",
    "\n",
    "#show distribution of how many recipes depending on how much time to cook\n",
    "ax.plot(minutes,quantity,'o')\n",
    "plt.show()"
   ]
  }
 ],
 "metadata": {
  "kernelspec": {
   "display_name": "Python 3",
   "language": "python",
   "name": "python3"
  },
  "language_info": {
   "codemirror_mode": {
    "name": "ipython",
    "version": 3
   },
   "file_extension": ".py",
   "mimetype": "text/x-python",
   "name": "python",
   "nbconvert_exporter": "python",
   "pygments_lexer": "ipython3",
   "version": "3.9.7"
  }
 },
 "nbformat": 4,
 "nbformat_minor": 5
}
