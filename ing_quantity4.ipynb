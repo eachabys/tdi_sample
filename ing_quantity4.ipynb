{
 "cells": [
  {
   "cell_type": "code",
   "execution_count": 2,
   "id": "hungry-walker",
   "metadata": {},
   "outputs": [
    {
     "data": {
      "image/png": "[encoded data removed]",
      "text/plain": [
       "<Figure size 432x288 with 1 Axes>"
      ]
     },
     "metadata": {
      "needs_background": "light"
     },
     "output_type": "display_data"
    }
   ],
   "source": [
    "import pandas as pd\n",
    "from collections import Counter\n",
    "import matplotlib.pylab as plt\n",
    "import numpy as np\n",
    "\n",
    "df= pd.read_csv('RAW_recipes.csv')\n",
    "timer=df.minutes\n",
    "ingred=df.n_ingredients\n",
    "#analyze whats the distribution of time to cook \n",
    "ingr_count=Counter(ingred)\n",
    "d1=ingr_count.items()\n",
    "\n",
    "total_quantity=np.array([x[1] for x in d1])\n",
    "i_quantity=np.array([x[0] for x in d1])\n",
    "fig = plt.figure()\n",
    "ax = fig.add_subplot(111)\n",
    "#show distribution of how many recipes depending on how many ingredients \n",
    "ax.plot(i_quantity,total_quantity,'o')\n",
    "plt.show()\n",
    "name_ingred=(df.ingredients).tolist()"
   ]
  },
  {
   "cell_type": "code",
   "execution_count": 3,
   "id": "verbal-aside",
   "metadata": {},
   "outputs": [
    {
     "name": "stdout",
     "output_type": "stream",
     "text": [
      "['winter squash', 'mexican seasoning', 'mixed spice', 'honey', 'butter', 'olive oil', 'salt', 'prepared pizza crust', 'sausage patty', 'eggs', 'milk', 'salt and pepper', 'cheese', 'ground beef', 'yellow onions']\n"
     ]
    }
   ],
   "source": [
    "name_ingred2='\\n'.join(''.join(sub) for sub in name_ingred)\n",
    "name_ingr=name_ingred2.replace(\"' '\", ',').replace('[', '').replace(']','')\n",
    "name_ing=name_ingr.replace(\"'\", '')\n",
    "ing2=name_ing.split(\", \")\n",
    "lst_ingr=[j.strip() for i in ing2 for j in i.split('\\n')]\n",
    "top_ingr=list(Counter(lst_ingr))\n",
    "#list of possible ingredients, total number is about 15000\n",
    "total_ingr=[x.replace('\"', '') for x in top_ingr]\n",
    "print(total_ingr[:15])\n"
   ]
  },
  {
   "cell_type": "code",
   "execution_count": null,
   "id": "hybrid-surprise",
   "metadata": {},
   "outputs": [],
   "source": []
  }
 ],
 "metadata": {
  "kernelspec": {
   "display_name": "Python 3",
   "language": "python",
   "name": "python3"
  },
  "language_info": {
   "codemirror_mode": {
    "name": "ipython",
    "version": 3
   },
   "file_extension": ".py",
   "mimetype": "text/x-python",
   "name": "python",
   "nbconvert_exporter": "python",
   "pygments_lexer": "ipython3",
   "version": "3.9.7"
  }
 },
 "nbformat": 4,
 "nbformat_minor": 5
}
